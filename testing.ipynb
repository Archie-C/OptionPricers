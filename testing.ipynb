{
 "cells": [
  {
   "cell_type": "code",
   "execution_count": 12,
   "metadata": {},
   "outputs": [
    {
     "name": "stdout",
     "output_type": "stream",
     "text": [
      "The autoreload extension is already loaded. To reload it, use:\n",
      "  %reload_ext autoreload\n"
     ]
    }
   ],
   "source": [
    "%load_ext autoreload\n",
    "%autoreload 2"
   ]
  },
  {
   "cell_type": "code",
   "execution_count": 25,
   "metadata": {},
   "outputs": [],
   "source": [
    "from BlackScholesOptionPricer import generalised_black_scholes"
   ]
  },
  {
   "cell_type": "code",
   "execution_count": 34,
   "metadata": {},
   "outputs": [],
   "source": [
    "call_price = generalised_black_scholes(50, 1, 100, 0.05, 0.05, 0.25)\n",
    "put_price = generalised_black_scholes(50, 1, 100, 0.05, 0.05, 0.25, option='put')"
   ]
  },
  {
   "cell_type": "code",
   "execution_count": 35,
   "metadata": {},
   "outputs": [
    {
     "name": "stdout",
     "output_type": "stream",
     "text": [
      "0.027352509369436617 45.15029495944084\n"
     ]
    }
   ],
   "source": [
    "print(call_price, put_price)"
   ]
  },
  {
   "cell_type": "code",
   "execution_count": null,
   "metadata": {},
   "outputs": [],
   "source": [
    "0.027352509369436617 45.15029495944084"
   ]
  },
  {
   "cell_type": "code",
   "execution_count": null,
   "metadata": {},
   "outputs": [],
   "source": []
  },
  {
   "cell_type": "code",
   "execution_count": 47,
   "metadata": {},
   "outputs": [
    {
     "name": "stdout",
     "output_type": "stream",
     "text": [
      "[*********************100%%**********************]  1 of 1 completed\n",
      "0.17515931555173916\n"
     ]
    }
   ],
   "source": [
    "import yfinance as yf\n",
    "import numpy as np\n",
    "import matplotlib.pyplot as plt\n",
    "\n",
    "SPY = yf.download('SPY', period='1y')\n",
    "spy_ticker = yf.Ticker('SPY')\n",
    "SPY['pct_change'] = SPY.Close.pct_change()\n",
    "SPY['log_return'] = np.log(1 + SPY['pct_change'])\n",
    "std = SPY['log_return'].std()\n",
    "annualized_sigma = std * np.sqrt(252)\n",
    "\n",
    "print(annualized_sigma)"
   ]
  },
  {
   "cell_type": "code",
   "execution_count": 49,
   "metadata": {},
   "outputs": [
    {
     "name": "stdout",
     "output_type": "stream",
     "text": [
      "        contractSymbol             lastTradeDate  strike  lastPrice    bid  \\\n",
      "0   SPY230918C00410000 2023-09-15 18:07:00+00:00   410.0      33.85  33.68   \n",
      "1   SPY230918C00420000 2023-09-15 17:22:22+00:00   420.0      23.50  23.69   \n",
      "2   SPY230918C00422000 2023-09-07 16:31:45+00:00   422.0      23.75  21.69   \n",
      "3   SPY230918C00424000 2023-09-14 13:44:57+00:00   424.0      24.61  19.69   \n",
      "4   SPY230918C00428000 2023-09-15 17:21:22+00:00   428.0      15.23  15.69   \n",
      "5   SPY230918C00430000 2023-09-15 20:03:20+00:00   430.0      13.44  13.69   \n",
      "6   SPY230918C00432000 2023-09-15 18:41:41+00:00   432.0      11.70  11.70   \n",
      "7   SPY230918C00433000 2023-09-15 20:12:29+00:00   433.0      10.64  10.70   \n",
      "8   SPY230918C00434000 2023-09-15 18:59:24+00:00   434.0       9.40   9.70   \n",
      "9   SPY230918C00435000 2023-09-15 20:00:32+00:00   435.0       8.67   8.70   \n",
      "10  SPY230918C00436000 2023-09-15 20:00:44+00:00   436.0       7.67   7.71   \n",
      "11  SPY230918C00437000 2023-09-15 19:32:19+00:00   437.0       6.59   6.72   \n",
      "12  SPY230918C00438000 2023-09-15 20:09:35+00:00   438.0       5.48   5.74   \n",
      "13  SPY230918C00439000 2023-09-15 20:00:40+00:00   439.0       4.75   4.80   \n",
      "14  SPY230918C00440000 2023-09-15 20:14:57+00:00   440.0       3.91   3.88   \n",
      "15  SPY230918C00441000 2023-09-15 20:13:36+00:00   441.0       2.99   3.00   \n",
      "16  SPY230918C00442000 2023-09-15 20:14:59+00:00   442.0       2.28   2.21   \n",
      "17  SPY230918C00443000 2023-09-15 20:14:59+00:00   443.0       1.54   1.54   \n",
      "18  SPY230918C00444000 2023-09-15 20:14:55+00:00   444.0       1.00   0.98   \n",
      "19  SPY230918C00445000 2023-09-15 20:14:59+00:00   445.0       0.56   0.56   \n",
      "20  SPY230918C00446000 2023-09-15 20:14:59+00:00   446.0       0.30   0.29   \n",
      "21  SPY230918C00447000 2023-09-15 20:14:58+00:00   447.0       0.13   0.13   \n",
      "22  SPY230918C00448000 2023-09-15 20:14:54+00:00   448.0       0.07   0.06   \n",
      "23  SPY230918C00449000 2023-09-15 20:14:35+00:00   449.0       0.03   0.02   \n",
      "24  SPY230918C00450000 2023-09-15 20:14:45+00:00   450.0       0.01   0.01   \n",
      "25  SPY230918C00451000 2023-09-15 20:14:05+00:00   451.0       0.02   0.01   \n",
      "26  SPY230918C00452000 2023-09-15 20:12:47+00:00   452.0       0.01   0.01   \n",
      "27  SPY230918C00453000 2023-09-15 20:09:00+00:00   453.0       0.02   0.01   \n",
      "28  SPY230918C00454000 2023-09-15 20:10:40+00:00   454.0       0.02   0.01   \n",
      "29  SPY230918C00455000 2023-09-15 20:14:37+00:00   455.0       0.01   0.00   \n",
      "30  SPY230918C00456000 2023-09-15 20:14:50+00:00   456.0       0.01   0.01   \n",
      "31  SPY230918C00457000 2023-09-15 19:56:49+00:00   457.0       0.01   0.00   \n",
      "32  SPY230918C00458000 2023-09-15 19:50:42+00:00   458.0       0.01   0.00   \n",
      "33  SPY230918C00459000 2023-09-15 19:56:09+00:00   459.0       0.01   0.00   \n",
      "34  SPY230918C00460000 2023-09-15 19:50:55+00:00   460.0       0.01   0.00   \n",
      "35  SPY230918C00461000 2023-09-15 15:16:06+00:00   461.0       0.01   0.00   \n",
      "36  SPY230918C00462000 2023-09-15 17:31:03+00:00   462.0       0.01   0.00   \n",
      "37  SPY230918C00463000 2023-09-15 19:50:12+00:00   463.0       0.01   0.00   \n",
      "38  SPY230918C00464000 2023-09-15 14:16:17+00:00   464.0       0.01   0.00   \n",
      "39  SPY230918C00465000 2023-09-15 16:00:26+00:00   465.0       0.01   0.00   \n",
      "40  SPY230918C00466000 2023-09-12 13:34:30+00:00   466.0       0.01   0.00   \n",
      "41  SPY230918C00467000 2023-09-15 17:23:15+00:00   467.0       0.01   0.00   \n",
      "42  SPY230918C00469000 2023-09-14 19:46:35+00:00   469.0       0.01   0.00   \n",
      "43  SPY230918C00470000 2023-09-15 18:10:24+00:00   470.0       0.01   0.00   \n",
      "44  SPY230918C00480000 2023-09-08 13:30:04+00:00   480.0       0.01   0.00   \n",
      "\n",
      "      ask    change  percentChange    volume  openInterest  impliedVolatility  \\\n",
      "0   33.91 -4.750000     -12.305700      20.0             0           0.643070   \n",
      "1   23.92 -6.729999     -22.262651     122.0             0           0.509282   \n",
      "2   21.92  0.000000       0.000000       NaN             0           0.474615   \n",
      "3   19.92  0.000000       0.000000       1.0             0           0.439703   \n",
      "4   15.92 -3.479999     -18.599678       3.0             0           0.368659   \n",
      "5   13.92 -6.680001     -33.200800      19.0             2           0.332526   \n",
      "6   11.93 -2.950000     -20.136517       8.0             0           0.296882   \n",
      "7   10.93 -6.929999     -39.442230     121.0             0           0.278083   \n",
      "8    9.93 -6.680000     -41.542290       8.0             0           0.258796   \n",
      "9    8.93 -6.780000     -43.883495     270.0             0           0.239265   \n",
      "10   7.94 -4.880000     -38.884464      49.0             0           0.220711   \n",
      "11   6.95 -6.820000     -50.857567      22.0             0           0.201668   \n",
      "12   5.96 -6.880000     -55.663430     156.0             0           0.181893   \n",
      "13   4.94 -6.930000     -59.332190     166.0             0           0.157967   \n",
      "14   4.00 -6.570000     -62.690840    1022.0            19           0.141488   \n",
      "15   3.10 -6.840000     -69.582910     935.0             4           0.126474   \n",
      "16   2.28 -6.020001     -72.530130    5054.0            14           0.114511   \n",
      "17   1.56 -5.760000     -78.904110   36581.0             4           0.104501   \n",
      "18   0.99 -5.290000     -84.101746   91464.0            35           0.097665   \n",
      "19   0.57 -5.140000     -90.175440  119025.0            26           0.092538   \n",
      "20   0.30 -4.400000     -93.617020  119714.0           203           0.089609   \n",
      "21   0.14 -3.510000     -96.428566  118684.0           240           0.086923   \n",
      "22   0.07 -2.740000     -97.508900   83429.0           434           0.088388   \n",
      "23   0.03 -1.690000     -98.255810   41610.0          1043           0.088876   \n",
      "24   0.02 -1.160000     -99.145300   68122.0          7124           0.095712   \n",
      "25   0.02 -0.760000     -97.435900   23592.0          7647           0.107431   \n",
      "26   0.02 -0.500000     -98.039215   12892.0          6553           0.119149   \n",
      "27   0.02 -0.290000     -93.548380    5558.0          5054           0.130868   \n",
      "28   0.02 -0.170000     -89.473690    4833.0          3374           0.142587   \n",
      "29   0.01 -0.100000     -90.909096    8760.0         10777           0.140634   \n",
      "30   0.02 -0.060000     -85.714290    3920.0          2522           0.164071   \n",
      "31   0.01 -0.030000     -75.000000     646.0          1053           0.160165   \n",
      "32   0.01 -0.020000     -66.666670     781.0          1399           0.171883   \n",
      "33   0.01 -0.010000     -50.000000     125.0          1686           0.183602   \n",
      "34   0.01 -0.010000     -50.000000      47.0          1319           0.191414   \n",
      "35   0.01  0.000000       0.000000      16.0           481           0.203133   \n",
      "36   0.01  0.000000       0.000000       9.0           457           0.210945   \n",
      "37   0.01  0.000000       0.000000       8.0           146           0.222664   \n",
      "38   0.01  0.000000       0.000000      29.0           286           0.234383   \n",
      "39   0.01  0.000000       0.000000      58.0            49           0.242195   \n",
      "40   0.01  0.000000       0.000000    4189.0            56           0.250007   \n",
      "41   0.01  0.000000       0.000000       2.0            20           0.261726   \n",
      "42   0.01  0.000000       0.000000       2.0            23           0.281257   \n",
      "43   0.01  0.000000       0.000000       1.0          9073           0.289070   \n",
      "44   0.01  0.000000       0.000000      20.0           448           0.382819   \n",
      "\n",
      "    inTheMoney contractSize currency  \n",
      "0         True      REGULAR      USD  \n",
      "1         True      REGULAR      USD  \n",
      "2         True      REGULAR      USD  \n",
      "3         True      REGULAR      USD  \n",
      "4         True      REGULAR      USD  \n",
      "5         True      REGULAR      USD  \n",
      "6         True      REGULAR      USD  \n",
      "7         True      REGULAR      USD  \n",
      "8         True      REGULAR      USD  \n",
      "9         True      REGULAR      USD  \n",
      "10        True      REGULAR      USD  \n",
      "11        True      REGULAR      USD  \n",
      "12        True      REGULAR      USD  \n",
      "13        True      REGULAR      USD  \n",
      "14        True      REGULAR      USD  \n",
      "15        True      REGULAR      USD  \n",
      "16        True      REGULAR      USD  \n",
      "17        True      REGULAR      USD  \n",
      "18       False      REGULAR      USD  \n",
      "19       False      REGULAR      USD  \n",
      "20       False      REGULAR      USD  \n",
      "21       False      REGULAR      USD  \n",
      "22       False      REGULAR      USD  \n",
      "23       False      REGULAR      USD  \n",
      "24       False      REGULAR      USD  \n",
      "25       False      REGULAR      USD  \n",
      "26       False      REGULAR      USD  \n",
      "27       False      REGULAR      USD  \n",
      "28       False      REGULAR      USD  \n",
      "29       False      REGULAR      USD  \n",
      "30       False      REGULAR      USD  \n",
      "31       False      REGULAR      USD  \n",
      "32       False      REGULAR      USD  \n",
      "33       False      REGULAR      USD  \n",
      "34       False      REGULAR      USD  \n",
      "35       False      REGULAR      USD  \n",
      "36       False      REGULAR      USD  \n",
      "37       False      REGULAR      USD  \n",
      "38       False      REGULAR      USD  \n",
      "39       False      REGULAR      USD  \n",
      "40       False      REGULAR      USD  \n",
      "41       False      REGULAR      USD  \n",
      "42       False      REGULAR      USD  \n",
      "43       False      REGULAR      USD  \n",
      "44       False      REGULAR      USD  \n"
     ]
    }
   ],
   "source": [
    "spy_ticker.options\n",
    "option = spy_ticker.option_chain('2023-09-18')\n",
    "calls = option.calls\n",
    "print(calls)"
   ]
  },
  {
   "cell_type": "code",
   "execution_count": null,
   "metadata": {},
   "outputs": [],
   "source": []
  }
 ],
 "metadata": {
  "kernelspec": {
   "display_name": "Python 3",
   "language": "python",
   "name": "python3"
  },
  "language_info": {
   "codemirror_mode": {
    "name": "ipython",
    "version": 3
   },
   "file_extension": ".py",
   "mimetype": "text/x-python",
   "name": "python",
   "nbconvert_exporter": "python",
   "pygments_lexer": "ipython3",
   "version": "3.10.11"
  },
  "orig_nbformat": 4
 },
 "nbformat": 4,
 "nbformat_minor": 2
}
